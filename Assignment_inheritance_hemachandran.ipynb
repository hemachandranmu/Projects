{
 "cells": [
  {
   "cell_type": "markdown",
   "id": "3e923158",
   "metadata": {},
   "source": [
    "Name:Hemachandran, Batch:May-2023, email:hemachandranmunuswamy@gmail.com"
   ]
  },
  {
   "cell_type": "markdown",
   "id": "f51ef505",
   "metadata": {},
   "source": [
    "## Assignments - 02 July 2023\n",
    "\n",
    "1. the `Person` class has a constructor that takes `name` and `age` as arguments and assigns them to the object's attributes. The `introduce` method is then invoked on the object to introduce the person.\n",
    "\n",
    "2. the `Car` class has a constructor that takes `brand` and `model` as arguments and assigns them to the object's attributes. The `display_info` method is then invoked on the object to display the car's brand and model.\n",
    "\n",
    "3. the `BankAccount` class has a constructor that takes `account_number` and `balance` as arguments and assigns them to the object's attributes. The `display_balance` method is then invoked on the object to display the account number and balance.\n",
    "\n",
    "4.  the `MobilePhone` class has a constructor that takes `brand` and `model` as arguments and assigns them to the object's attributes. The `make_call` method is then invoked on the object to make a call with the phone.\n",
    "\n",
    "5. the `Book` class has a constructor that takes `title` and `author` as arguments and assigns them to the object's attributes. The `display_info` method is then invoked on the object to display the book's title and author.\n",
    "\n",
    "6. Vehicles: Create a base class called Vehicle with attributes such as make, model, and year. Implement two subclasses Car and Motorcycle that inherit from Vehicle. Add additional methods to the subclasses, such as start_engine() and stop_engine(), and handle any specific behavior or rules for each vehicle type."
   ]
  },
  {
   "cell_type": "markdown",
   "id": "db61eb29",
   "metadata": {},
   "source": [
    "## Answers\n",
    "\n",
    "#### 1. the `Person` class has a constructor that takes `name` and `age` as arguments and assigns them to the object's attributes. The `introduce` method is then invoked on the object to introduce the person.\n"
   ]
  },
  {
   "cell_type": "code",
   "execution_count": 101,
   "id": "5a3b8906",
   "metadata": {},
   "outputs": [
    {
     "name": "stdout",
     "output_type": "stream",
     "text": [
      "Name is : Hema, and Age is :21\n"
     ]
    }
   ],
   "source": [
    "class Person:\n",
    "    def __init__(self,name,age):\n",
    "        self.name=name\n",
    "        self.age=age\n",
    "\n",
    "    def introduce(self):\n",
    "        print(f\"Name is : {self.name}, and Age is :{self.age}\")\n",
    "\n",
    "obj=Person(\"Hema\",21)\n",
    "obj.introduce()"
   ]
  },
  {
   "cell_type": "markdown",
   "id": "ca9c764a",
   "metadata": {},
   "source": [
    "#### 2. the `Car` class has a constructor that takes `brand` and `model` as arguments and assigns them to the object's attributes. The `display_info` method is then invoked on the object to display the car's brand and model."
   ]
  },
  {
   "cell_type": "code",
   "execution_count": 93,
   "id": "d91d4676",
   "metadata": {},
   "outputs": [
    {
     "name": "stdout",
     "output_type": "stream",
     "text": [
      "brand is : BMW, and model is :2024\n"
     ]
    }
   ],
   "source": [
    "class Car:\n",
    "    def __init__(self,brand,model):\n",
    "        self.brand=brand\n",
    "        self.model=model\n",
    "\n",
    "    def display_info(self):\n",
    "        print(f\"brand is : {self.brand}, and model is :{self.model}\")\n",
    "\n",
    "obj=Car(\"BMW\",2024)\n",
    "obj.display_info()"
   ]
  },
  {
   "cell_type": "markdown",
   "id": "95dc4067",
   "metadata": {},
   "source": [
    "#### 3. the `BankAccount` class has a constructor that takes `account_number` and `balance` as arguments and assigns them to the object's attributes. The `display_balance` method is then invoked on the object to display the account number and balance."
   ]
  },
  {
   "cell_type": "code",
   "execution_count": 95,
   "id": "fe3c3ec0",
   "metadata": {},
   "outputs": [
    {
     "name": "stdout",
     "output_type": "stream",
     "text": [
      "account number is : A12345, and balance is :10000\n"
     ]
    }
   ],
   "source": [
    "class BankAccount:\n",
    "    def __init__(self,account_number,balance):\n",
    "        self.account_number=account_number\n",
    "        self.balance=balance\n",
    "\n",
    "    def display_balance(self):\n",
    "        print(f\"account number is : {self.account_number}, and balance is :{self.balance}\")\n",
    "\n",
    "obj=BankAccount(\"A12345\",10000)\n",
    "obj.display_balance()"
   ]
  },
  {
   "cell_type": "markdown",
   "id": "014ec34c",
   "metadata": {},
   "source": [
    "#### 4.  the `MobilePhone` class has a constructor that takes `brand` and `model` as arguments and assigns them to the object's attributes. The `make_call` method is then invoked on the object to make a call with the phone."
   ]
  },
  {
   "cell_type": "code",
   "execution_count": 96,
   "id": "4ed7750d",
   "metadata": {},
   "outputs": [
    {
     "name": "stdout",
     "output_type": "stream",
     "text": [
      "calling from - brand  : BMW, and model :2024\n"
     ]
    }
   ],
   "source": [
    "class MobilePhone:\n",
    "    def __init__(self,brand,model):\n",
    "        self.brand=brand\n",
    "        self.model=model\n",
    "\n",
    "    def make_call(self):\n",
    "        print(f\"calling from - brand  : {self.brand}, and model :{self.model}\")\n",
    "\n",
    "obj=MobilePhone(\"BMW\",2024)\n",
    "obj.make_call()"
   ]
  },
  {
   "cell_type": "markdown",
   "id": "484e434f",
   "metadata": {},
   "source": [
    "#### 5. the `Book` class has a constructor that takes `title` and `author` as arguments and assigns them to the object's attributes. The `display_info` method is then invoked on the object to display the book's title and author."
   ]
  },
  {
   "cell_type": "code",
   "execution_count": 99,
   "id": "47478477",
   "metadata": {},
   "outputs": [
    {
     "name": "stdout",
     "output_type": "stream",
     "text": [
      "Book Title is : Electrical Eng, and Author is :B.L.THERAJA\n"
     ]
    }
   ],
   "source": [
    "class Book:\n",
    "    def __init__(self,title,author):\n",
    "        self.title=title\n",
    "        self.author=author\n",
    "\n",
    "    def display_info(self):\n",
    "        print(f\"Book Title is : {self.title}, and Author is :{self.author}\")\n",
    "\n",
    "obj=Book(\"Electrical Eng\",\"B.L.THERAJA\")\n",
    "obj.display_info()"
   ]
  },
  {
   "cell_type": "markdown",
   "id": "a43ad8a0",
   "metadata": {},
   "source": [
    "#### 6. Vehicles: Create a base class called Vehicle with attributes such as make, model, and year. Implement two subclasses Car and Motorcycle that inherit from Vehicle. Add additional methods to the subclasses, such as start_engine() and stop_engine(), and handle any specific behavior or rules for each vehicle type."
   ]
  },
  {
   "cell_type": "code",
   "execution_count": 100,
   "id": "26bc2a22",
   "metadata": {},
   "outputs": [
    {
     "name": "stdout",
     "output_type": "stream",
     "text": [
      "Car started...\n",
      "Car stopped.\n",
      "Motorcycle started...\n",
      "Motorcycle stopped.\n"
     ]
    }
   ],
   "source": [
    "class Vehicle:\n",
    "    def __init__(self,make,model,year):\n",
    "        self.make=make\n",
    "        self.model=model\n",
    "        self.year=year\n",
    "        \n",
    "class Car(Vehicle):\n",
    "    def __init__(self,make,model,year):\n",
    "        super().__init__(make,model,year)\n",
    "        \n",
    "    def start_engine(self):\n",
    "        print(f\"Car started...\")\n",
    "        \n",
    "    def stop_engine(self):\n",
    "        print(f\"Car stopped.\")\n",
    "        \n",
    "class Motorcycle(Vehicle):\n",
    "    def __init__(self,make,model,year):\n",
    "        super().__init__(make,model,year)\n",
    "        \n",
    "    def start_engine(self):\n",
    "        print(f\"Motorcycle started...\")\n",
    "        \n",
    "    def stop_engine(self):\n",
    "        print(f\"Motorcycle stopped.\")       \n",
    "\n",
    "obj1=Car(\"Jaguar\",\"Royal\",\"2024\")\n",
    "obj1.start_engine()\n",
    "obj1.stop_engine()\n",
    "obj2=Motorcycle(\"Bullet\",\"Royal\",\"2024\")\n",
    "obj2.start_engine()\n",
    "obj2.stop_engine()"
   ]
  },
  {
   "cell_type": "code",
   "execution_count": null,
   "id": "4b1fe45a",
   "metadata": {},
   "outputs": [],
   "source": []
  }
 ],
 "metadata": {
  "kernelspec": {
   "display_name": "Python 3 (ipykernel)",
   "language": "python",
   "name": "python3"
  },
  "language_info": {
   "codemirror_mode": {
    "name": "ipython",
    "version": 3
   },
   "file_extension": ".py",
   "mimetype": "text/x-python",
   "name": "python",
   "nbconvert_exporter": "python",
   "pygments_lexer": "ipython3",
   "version": "3.10.9"
  }
 },
 "nbformat": 4,
 "nbformat_minor": 5
}
