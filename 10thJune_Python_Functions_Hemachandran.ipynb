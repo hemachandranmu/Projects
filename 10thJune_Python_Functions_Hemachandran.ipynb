{
 "cells": [
  {
   "cell_type": "markdown",
   "id": "e4032e45",
   "metadata": {},
   "source": [
    "#### Name:Hemachandran Munuswamy\n",
    "#### Batch:May13 2023 FSDS"
   ]
  },
  {
   "cell_type": "markdown",
   "id": "e135ff99",
   "metadata": {},
   "source": [
    "###  1. In Python, what is the difference between a built-in function and a user-defined function? Provide an example of each."
   ]
  },
  {
   "cell_type": "markdown",
   "id": "fb4508a4",
   "metadata": {},
   "source": [
    "Built-in function:\n",
    "They are pre-defied function which can be used any time."
   ]
  },
  {
   "cell_type": "code",
   "execution_count": 1,
   "id": "12d1e3ab",
   "metadata": {},
   "outputs": [
    {
     "name": "stdout",
     "output_type": "stream",
     "text": [
      "3\n"
     ]
    }
   ],
   "source": [
    "# example:\n",
    "# print()\n",
    "# len()\n",
    "print(len(\"123\"))"
   ]
  },
  {
   "cell_type": "markdown",
   "id": "72077f3b",
   "metadata": {},
   "source": [
    "User defined function:\n",
    "    They are functions that are defined by the programmers."
   ]
  },
  {
   "cell_type": "code",
   "execution_count": 3,
   "id": "681bc96f",
   "metadata": {},
   "outputs": [
    {
     "name": "stdout",
     "output_type": "stream",
     "text": [
      "my logic\n"
     ]
    }
   ],
   "source": [
    "# example:\n",
    "def myfunc():\n",
    "    print(\"my logic\")\n",
    "    \n",
    "myfunc()"
   ]
  },
  {
   "cell_type": "markdown",
   "id": "3167f285",
   "metadata": {},
   "source": [
    "### 2. How can you pass arguments to a function in Python? Explain the difference between positional arguments and keyword arguments."
   ]
  },
  {
   "cell_type": "markdown",
   "id": "b856811e",
   "metadata": {},
   "source": [
    "python provides different ways of passing the arguments during the function call as below: \n",
    "1. keyword-only argument - means passing the argument by using the parameter names during the function call.\n",
    "2. Positional-Only Argument - Arguments are passed in the order of parameters. The order defined in the order function declaration."
   ]
  },
  {
   "cell_type": "code",
   "execution_count": 5,
   "id": "4201ca05",
   "metadata": {},
   "outputs": [
    {
     "name": "stdout",
     "output_type": "stream",
     "text": [
      "Hi, I am Prince\n",
      "My age is  20\n"
     ]
    }
   ],
   "source": [
    "# example - keyword arguments\n",
    "def nameAge(name, age):\n",
    "    print(\"Hi, I am\", name)\n",
    "    print(\"My age is \", age)\n",
    "\n",
    "nameAge(name=\"Prince\", age=20)"
   ]
  },
  {
   "cell_type": "code",
   "execution_count": 6,
   "id": "ce1bf608",
   "metadata": {},
   "outputs": [
    {
     "name": "stdout",
     "output_type": "stream",
     "text": [
      "Hi, I am Prince\n",
      "My age is  20\n"
     ]
    }
   ],
   "source": [
    "# example - positional arguments\n",
    "nameAge(age=20, name=\"Prince\")"
   ]
  },
  {
   "cell_type": "markdown",
   "id": "7d34deb4",
   "metadata": {},
   "source": [
    "### 3. What is the purpose of the return statement in a function? Can a function have multiple return statements? Explain with an example."
   ]
  },
  {
   "cell_type": "markdown",
   "id": "b82be466",
   "metadata": {},
   "source": [
    "The python return statement is used to return values from the function. We can use the return statement in a function only. It can’t be used outside of a function.\n",
    "Every function in Python returns something. If the function doesn’t have any return statement, then it returns None.\n",
    "\n",
    "Yes,its have multiple return statements"
   ]
  },
  {
   "cell_type": "code",
   "execution_count": 8,
   "id": "7daee035",
   "metadata": {},
   "outputs": [
    {
     "name": "stdout",
     "output_type": "stream",
     "text": [
      "Printing:: Hi\n",
      "A function ret_something() with return statement returns myoutput\n",
      "A function print_something() without return statement returns None\n"
     ]
    }
   ],
   "source": [
    "# example return with/without value:\n",
    "def print_something(s):\n",
    "    print('Printing::', s)\n",
    "\n",
    "def ret_something():\n",
    "    return 'myoutput'\n",
    "\n",
    "retOuntput = ret_something()\n",
    "output = print_something('Hi')\n",
    "print(f'A function ret_something() with return statement returns {retOuntput}')\n",
    "print(f'A function print_something() without return statement returns {output}')"
   ]
  },
  {
   "cell_type": "markdown",
   "id": "2dd943ae",
   "metadata": {},
   "source": [
    "### 4.What are lambda functions in Python? How are they different from regular functions? Provide an example where a lambda function can be useful."
   ]
  },
  {
   "cell_type": "markdown",
   "id": "6c0637d7",
   "metadata": {},
   "source": [
    "#### Def function (regular function)\n",
    "In python, def defined functions are commonly used because of their simplicity. The def defined functions do not return anything if not explicitly returned whereas the lambda function does return an object. The def functions must be declared in the namespace. The def functions can perform any python task including multiple conditions, nested conditions or loops of any level, printing, importing libraries, raising Exceptions, etc. \n",
    "\n",
    "Example:"
   ]
  },
  {
   "cell_type": "code",
   "execution_count": 9,
   "id": "fb49eb7d",
   "metadata": {},
   "outputs": [
    {
     "name": "stdout",
     "output_type": "stream",
     "text": [
      "3.0\n",
      "True\n"
     ]
    }
   ],
   "source": [
    "# Define function to calculate cube root\n",
    "# using def keyword\n",
    "  \n",
    "def calculate_cube_root(x):\n",
    "    return x**(1/3)\n",
    "  \n",
    "# Call the def function to calculate cube\n",
    "# root and print it\n",
    "print(calculate_cube_root(27))\n",
    "  \n",
    "# Define function to check if language is present in\n",
    "# language list using def keyword\n",
    "languages = ['Sanskrut', 'English', 'French', 'German']\n",
    "  \n",
    "def check_language(x):\n",
    "    if x in languages:\n",
    "        return True\n",
    "    return False\n",
    "  \n",
    "# Call the def function to check if keyword 'English'\n",
    "# is present in the languages list and print it\n",
    "print(check_language('English'))"
   ]
  },
  {
   "cell_type": "markdown",
   "id": "04b4e620",
   "metadata": {},
   "source": [
    "#### Lambda function\n",
    "The lambda functions can be used without any declaration in the namespace. The lambda functions defined above are like single-line functions. These functions do not have parenthesis like the def defined functions but instead, take parameters after the lambda keyword as shown above. There is no return keyword defined explicitly because the lambda function does return an object by default.\n",
    "\n",
    "Example:"
   ]
  },
  {
   "cell_type": "code",
   "execution_count": 10,
   "id": "5a2745e6",
   "metadata": {},
   "outputs": [
    {
     "name": "stdout",
     "output_type": "stream",
     "text": [
      "3.0\n",
      "True\n"
     ]
    }
   ],
   "source": [
    "# Define function using lambda for cube root\n",
    "cube_root= lambda x: x**(1/3)\n",
    "  \n",
    "# Call the lambda function\n",
    "print(cube_root(27))\n",
    "  \n",
    "  \n",
    "languages = ['Sanskrut', 'English', 'French', 'German']\n",
    "  \n",
    "  \n",
    "# Define function using lambda\n",
    "l_check_language = lambda x: True if x in languages else False\n",
    "  \n",
    "# Call the lambda function\n",
    "print(l_check_language('Sanskrut'))"
   ]
  },
  {
   "cell_type": "markdown",
   "id": "6eebf881",
   "metadata": {},
   "source": [
    "#### def defined functions\n",
    "- Easy to interpret\n",
    "- Can consists of any number of execution statements inside the function definition\n",
    "- To return an object from the function, return should be explicitly defined\n",
    "- Execution time is relatively slower for the same operation performed using lambda functions\n",
    "- Defined using the keyword def and holds a function name in the local namespace\n",
    "\n",
    "#### lambda functions\n",
    "- Interpretation might be tricky\n",
    "- The limited operation can be performed using lambda functions\n",
    "- No need of using the return statement\n",
    "- Execution time of the program is fast for the same operation\n",
    "- Defined using the keyword lambda and does not compulsorily hold a function name in the local namespace"
   ]
  },
  {
   "cell_type": "markdown",
   "id": "db46f10c",
   "metadata": {},
   "source": [
    "### 5. How does the concept of \"scope\" apply to functions in Python? Explain the difference between local scope and global scope."
   ]
  },
  {
   "cell_type": "markdown",
   "id": "0620834a",
   "metadata": {},
   "source": [
    "we can declare variables in three different scopes: \n",
    "- local scope, \n",
    "- global, and \n",
    "- nonlocal scope.\n",
    "\n",
    "A variable scope specifies the region where we can access a variable. \n",
    "For example,"
   ]
  },
  {
   "cell_type": "markdown",
   "id": "0335c62d",
   "metadata": {},
   "source": [
    "#### Local scope\n",
    "When we declare variables inside a function, these variables will have a local scope (within the function). We cannot access them outside the function.\n",
    "\n",
    "These types of variables are called local variables. \n",
    "For example,"
   ]
  },
  {
   "cell_type": "code",
   "execution_count": 11,
   "id": "facdc9ed",
   "metadata": {},
   "outputs": [
    {
     "name": "stdout",
     "output_type": "stream",
     "text": [
      "Local Hello\n"
     ]
    },
    {
     "ename": "NameError",
     "evalue": "name 'message' is not defined",
     "output_type": "error",
     "traceback": [
      "\u001b[1;31m---------------------------------------------------------------------------\u001b[0m",
      "\u001b[1;31mNameError\u001b[0m                                 Traceback (most recent call last)",
      "Cell \u001b[1;32mIn[11], line 12\u001b[0m\n\u001b[0;32m      8\u001b[0m iTest()\n\u001b[0;32m     10\u001b[0m \u001b[38;5;66;03m# try to access message variable \u001b[39;00m\n\u001b[0;32m     11\u001b[0m \u001b[38;5;66;03m# outside iTest() function\u001b[39;00m\n\u001b[1;32m---> 12\u001b[0m \u001b[38;5;28mprint\u001b[39m(\u001b[43mmessage\u001b[49m)\n",
      "\u001b[1;31mNameError\u001b[0m: name 'message' is not defined"
     ]
    }
   ],
   "source": [
    "def iTest():\n",
    "\n",
    "    # local variable\n",
    "    message = 'Hello'\n",
    "    \n",
    "    print('Local', message)\n",
    "\n",
    "iTest()\n",
    "\n",
    "# try to access message variable \n",
    "# outside iTest() function\n",
    "print(message)"
   ]
  },
  {
   "cell_type": "raw",
   "id": "605b5be9",
   "metadata": {},
   "source": [
    "Here, the message variable is local to the iTest() function, so it can only be accessed within the function.\n",
    "That's why we get an error when we try to access it outside the iTest() function.\n",
    "To fix this issue, we can make the variable named message global."
   ]
  },
  {
   "cell_type": "markdown",
   "id": "4f4966fc",
   "metadata": {},
   "source": [
    "#### Python Global Variables\n",
    "A variable declared outside of the function or in global scope is known as a global variable. This means that a global variable can be accessed inside or outside of the function.\n",
    "\n",
    "Let's see an example of how a global variable is created in Python."
   ]
  },
  {
   "cell_type": "code",
   "execution_count": 12,
   "id": "16b8e03d",
   "metadata": {},
   "outputs": [
    {
     "name": "stdout",
     "output_type": "stream",
     "text": [
      "Local Hello\n",
      "Global Hello\n"
     ]
    }
   ],
   "source": [
    "# declare global variable\n",
    "message = 'Hello'\n",
    "\n",
    "def iTest():\n",
    "    # declare local variable\n",
    "    print('Local', message)\n",
    "\n",
    "iTest()\n",
    "print('Global', message)"
   ]
  },
  {
   "cell_type": "raw",
   "id": "bc9a2d61",
   "metadata": {},
   "source": [
    " This time we can access the message variable from outside of the iTest() function. This is because we have created the message variable as the global variable."
   ]
  },
  {
   "cell_type": "markdown",
   "id": "9dcb8965",
   "metadata": {},
   "source": [
    "#### Nonlocal Variables\n",
    "Nonlocal variables are used in nested functions whose local scope is not defined. This means that the variable can be neither in the local nor the global scope.\n",
    "\n",
    "We use the nonlocal keyword to create nonlocal variables.For example,"
   ]
  },
  {
   "cell_type": "code",
   "execution_count": 13,
   "id": "c7bc50d9",
   "metadata": {},
   "outputs": [
    {
     "name": "stdout",
     "output_type": "stream",
     "text": [
      "inner: nonlocal\n",
      "outer: nonlocal\n"
     ]
    }
   ],
   "source": [
    "# outside function \n",
    "def outer():\n",
    "    message = 'local'\n",
    "\n",
    "    # nested function  \n",
    "    def inner():\n",
    "\n",
    "        # declare nonlocal variable\n",
    "        nonlocal message\n",
    "\n",
    "        message = 'nonlocal'\n",
    "        print(\"inner:\", message)\n",
    "\n",
    "    inner()\n",
    "    print(\"outer:\", message)\n",
    "\n",
    "outer()"
   ]
  },
  {
   "cell_type": "raw",
   "id": "56f1c7a8",
   "metadata": {},
   "source": [
    " If we change the value of a nonlocal variable, the changes appear in the local variable."
   ]
  },
  {
   "cell_type": "markdown",
   "id": "eaf0d979",
   "metadata": {},
   "source": [
    "### 6. How can you use the \"return\" statement in a Python function to return multiple values?"
   ]
  },
  {
   "cell_type": "markdown",
   "id": "ea84d581",
   "metadata": {},
   "source": [
    "#### Returning Multiple Values\n",
    "Use a return statement to return multiple values from a function. To do that, need to supply several return values separated by commas.\n",
    "\n",
    "For example, suppose , write a function that takes a sample of numeric data and returns a summary of statistical measures. To code that function, use the Python standard module statistics, which provides several functions for calculating mathematical statistics of numeric data."
   ]
  },
  {
   "cell_type": "code",
   "execution_count": 18,
   "id": "cd9372d6",
   "metadata": {},
   "outputs": [
    {
     "name": "stdout",
     "output_type": "stream",
     "text": [
      "6.5 7.0 7\n"
     ]
    }
   ],
   "source": [
    "import statistics as st\n",
    "\n",
    "def describe(sample):\n",
    "    return st.mean(sample), st.median(sample), st.mode(sample)\n",
    "\n",
    "sample = [10, 2, 4, 7, 9, 3, 9, 8, 6, 7]\n",
    "mean, median, mode = describe(sample)\n",
    "print(mean, median, mode)"
   ]
  },
  {
   "cell_type": "markdown",
   "id": "319b3b20",
   "metadata": {},
   "source": [
    "In describe(), you take advantage of Python’s ability to return multiple values in a single return statement by returning the mean, median, and mode of the sample at the same time. Note that, to return multiple values, need to write them in a comma-separated list in the order we want them returned.\n",
    "\n",
    "Once coded describe(), you can take advantage of a powerful Python feature known as iterable unpacking to unpack the three measures into three separated variables, or you can just store everything in one variable:"
   ]
  },
  {
   "cell_type": "markdown",
   "id": "dfb53145",
   "metadata": {},
   "source": [
    "### 7. What is the difference between the \"pass by value\" and \"pass by reference\" concepts when it comes to function arguments in Python?"
   ]
  },
  {
   "cell_type": "markdown",
   "id": "e4c489d3",
   "metadata": {},
   "source": [
    "### Pass by reference vs value in Python"
   ]
  },
  {
   "cell_type": "markdown",
   "id": "3e572ef8",
   "metadata": {},
   "source": [
    "When you give function parameters via reference, you're just passing references to values that already exist. When you pass arguments by value, on the other hand, the arguments become independent copies of the original values."
   ]
  },
  {
   "cell_type": "markdown",
   "id": "8af5675c",
   "metadata": {},
   "source": [
    "#### Pass by value"
   ]
  },
  {
   "cell_type": "markdown",
   "id": "ac429612",
   "metadata": {},
   "source": [
    "Any other operation performed will not have any effect on the original value as the argument passed to the function is copied. It only changes the value of the copy created within the function."
   ]
  },
  {
   "cell_type": "code",
   "execution_count": 21,
   "id": "cb41eb2d",
   "metadata": {},
   "outputs": [
    {
     "name": "stdout",
     "output_type": "stream",
     "text": [
      "Before function call  100\n",
      "Inside function call  200\n",
      "After function call  100\n"
     ]
    }
   ],
   "source": [
    "\n",
    "def function(int):\n",
    "  int+=100\n",
    "  print(\"Inside function call \",int)\n",
    "\n",
    "int=100\n",
    "print(\"Before function call \",int)\n",
    "function(int)\n",
    "print(\"After function call \",int)"
   ]
  },
  {
   "cell_type": "markdown",
   "id": "923abcfb",
   "metadata": {},
   "source": [
    "Here, a copy of the argument is created, and changes are made to that copy such that the original value is not affected. As a result, the original value is printed after the function call."
   ]
  },
  {
   "cell_type": "markdown",
   "id": "a876dde1",
   "metadata": {},
   "source": [
    "In this, we assigned the variable the value '100' and changed it to '200', but the change was not seen outside the function i.e. int is still '100'. Hence proved, it is pass by value method.\n"
   ]
  },
  {
   "cell_type": "markdown",
   "id": "65b5b2b7",
   "metadata": {},
   "source": [
    "#### Pass by reference\n",
    "This method passes a reference to the original arguments, and any operation performed on the parameter affects the actual value. It alters the value in both function and globally.\n"
   ]
  },
  {
   "cell_type": "code",
   "execution_count": 23,
   "id": "599e3d45",
   "metadata": {},
   "outputs": [
    {
     "name": "stdout",
     "output_type": "stream",
     "text": [
      "Before function call ['A']\n",
      "Inside function call ['A', 'B']\n",
      "After function call ['A', 'B']\n"
     ]
    }
   ],
   "source": [
    "\n",
    "def function(int):\n",
    "    int.append('B')\n",
    "    print(\"Inside function call\",int)\n",
    "    \n",
    "int=['A']\n",
    "print(\"Before function call\",int)\n",
    "function(int)\n",
    "print(\"After function call\",int)\n"
   ]
  },
  {
   "cell_type": "markdown",
   "id": "f7803555",
   "metadata": {},
   "source": [
    "When a list is used, its reference is supplied into the function, and any modifications to the list have an effect even after the method has been called."
   ]
  },
  {
   "cell_type": "markdown",
   "id": "259fd3ec",
   "metadata": {},
   "source": [
    "### 8.  Create a function that can intake integer or decimal value and do following operations:\n",
    "- a. Logarithmic function (log x)\n",
    "- b. Exponential function (exp(x))\n",
    "- c. Power function with base 2 (2x)\n",
    "- d. Square root"
   ]
  },
  {
   "cell_type": "code",
   "execution_count": 37,
   "id": "23ab3a06",
   "metadata": {},
   "outputs": [
    {
     "name": "stdout",
     "output_type": "stream",
     "text": [
      "a. Logarithmic function (log 2):  0.6931471805599453\n",
      "b. Exponential function (exp(2)):  7.38905609893065\n",
      "c. Power function with base 2 (2^2):  4.0\n",
      "d. Square root of 2:  1.4142135623730951\n"
     ]
    }
   ],
   "source": [
    "import math   \n",
    "def myFunction(x):        \n",
    "    print(f\"a. Logarithmic function (log {x}): \", math.log(x)) \n",
    "    print(f\"b. Exponential function (exp({x})): \",math.exp(x))\n",
    "    print(f\"c. Power function with base 2 (2^{x}): \",math.pow(2, x))\n",
    "    print(f\"d. Square root of {x}: \",math.sqrt(x))\n",
    "\n",
    "# call myFunction(x)}\n",
    "x=2;\n",
    "myFunction(x)"
   ]
  },
  {
   "cell_type": "markdown",
   "id": "17ad61e7",
   "metadata": {},
   "source": [
    "### 9. Create a function that takes a full name as an argument and returns first name and last name."
   ]
  },
  {
   "cell_type": "code",
   "execution_count": 68,
   "id": "0b3cbdb0",
   "metadata": {},
   "outputs": [
    {
     "name": "stdout",
     "output_type": "stream",
     "text": [
      "Enter username:Hemachandran Munuswamy\n",
      "\n",
      "case 1:Case for user entered both firstname and lastname\n",
      "First Name:Hemachandran\n",
      "Last Name:Munuswamy\n",
      "Enter username:Hemachandran\n",
      "\n",
      "case 2:Case for user not entered any of firstname and lastname\n",
      "First Name:Hemachandran\n",
      "Last Name:\n",
      "Enter username:\n",
      "\n",
      "case 2:Case for user not entered any of firstname and lastname\n",
      "First Name:\n",
      "Last Name:\n"
     ]
    }
   ],
   "source": [
    "def getFullName():    \n",
    "    username = input(\"Enter username:\");\n",
    "    resName=username.split(' ', 1);\n",
    "    #print(len(x))\n",
    "    if(len(resName)>1):\n",
    "        print(f\"\\ncase 1:Case for user entered both firstname and lastname\");\n",
    "        print(f\"First Name:{resName[0]}\");\n",
    "        print(f\"Last Name:{resName[1]}\");\n",
    "    else:\n",
    "        print(f\"\\ncase 2:Case for user not entered any of firstname and lastname\");\n",
    "        print(f\"First Name:{resName[0]}\");\n",
    "        print(f\"Last Name:\");\n",
    "    \n",
    "getFullName();\n",
    "getFullName();\n",
    "getFullName();"
   ]
  }
 ],
 "metadata": {
  "kernelspec": {
   "display_name": "Python 3 (ipykernel)",
   "language": "python",
   "name": "python3"
  },
  "language_info": {
   "codemirror_mode": {
    "name": "ipython",
    "version": 3
   },
   "file_extension": ".py",
   "mimetype": "text/x-python",
   "name": "python",
   "nbconvert_exporter": "python",
   "pygments_lexer": "ipython3",
   "version": "3.10.9"
  }
 },
 "nbformat": 4,
 "nbformat_minor": 5
}
