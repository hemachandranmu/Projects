{
 "cells": [
  {
   "cell_type": "markdown",
   "id": "bc001483",
   "metadata": {},
   "source": [
    "## 1.What are the two values of the Boolean data type? How do you write them?\n",
    "Answer:\n",
    "The Python Boolean type has only two possible values:\n",
    "1.\tTrue\n",
    "2.\tFalse"
   ]
  },
  {
   "cell_type": "markdown",
   "id": "69056304",
   "metadata": {},
   "source": [
    "## 2.What are the three different types of Boolean operators?\n",
    "Answer:\n",
    "There are three logical operators that are used to compare values. They evaluate expressions down to Boolean values, returning either True or False . These operators are \n",
    "1. and , \n",
    "2. or , and \n",
    "3. not and."
   ]
  },
  {
   "cell_type": "markdown",
   "id": "bdb66107",
   "metadata": {},
   "source": [
    "## 3. Make a list of each Boolean operator's truth tables (i.e. every possible combination of Boolean values for the operator and what it evaluate ).\n",
    "Answer:\n",
    "- False and False is False.\n",
    "- False and True is False.\n",
    "- False or False is False.\n",
    "- False or True is True.\n",
    "- not False is True.\n",
    "- not True is False.\n",
    "- True and False is False.\n",
    "- True and True is True.\n",
    "- True or False is True.\n",
    "- True or True is True."
   ]
  },
  {
   "cell_type": "markdown",
   "id": "98c13fce",
   "metadata": {},
   "source": [
    "## 4. What are the values of the following expressions?\n",
    "- (5 > 4) and (3 == 5)\n",
    "- not (5 > 4)\n",
    "- (5 > 4) or (3 == 5)\n",
    "- not ((5 > 4) or (3 == 5))\n",
    "- (True and True) and (True == False)\n",
    "- (not False) or (not True)"
   ]
  },
  {
   "cell_type": "markdown",
   "id": "c08662aa",
   "metadata": {},
   "source": [
    "#### Answer:\n",
    "- (5 > 4) and (3 == 5)\tFALSE\n",
    "- not (5 > 4)\tFALSE\n",
    "- (5 > 4) or (3 == 5)\tTRUE\n",
    "- not ((5 > 4) or (3 == 5))\tFALSE\n",
    "- (True and True) and (True == False)\tFALSE\n",
    "- (not False) or (not True)\tTRUE"
   ]
  },
  {
   "cell_type": "markdown",
   "id": "8ff1b6cd",
   "metadata": {},
   "source": [
    "## 5. What are the six comparison operators?"
   ]
  },
  {
   "cell_type": "markdown",
   "id": "b401c289",
   "metadata": {},
   "source": [
    "Answer:\n",
    "- 1\t==\n",
    "- 2\t !=\n",
    "- 3\t <\n",
    "- 4\t >\n",
    "- 5\t <=\n",
    "- 6\t >="
   ]
  },
  {
   "cell_type": "markdown",
   "id": "25f0b929",
   "metadata": {},
   "source": [
    "## 6. How do you tell the difference between the equal to and assignment operators?Describe a condition and when you would use one."
   ]
  },
  {
   "cell_type": "markdown",
   "id": "51a857a0",
   "metadata": {},
   "source": [
    "Answer:\n",
    "== is the equal to operator that compares two values and evaluates to a Boolean, while = is the assignment operator that stores a value in a variable."
   ]
  },
  {
   "cell_type": "markdown",
   "id": "e1101c3f",
   "metadata": {},
   "source": [
    "## 7. Identify the three blocks in this code:"
   ]
  },
  {
   "cell_type": "raw",
   "id": "763f2fb6",
   "metadata": {},
   "source": [
    "spam = 0\n",
    "if spam == 10:\n",
    "print('eggs')\n",
    "if spam > 5:\n",
    "print('bacon')\n",
    "else:\n",
    "print('ham')\n",
    "print('spam')\n",
    "print('spam')"
   ]
  },
  {
   "cell_type": "markdown",
   "id": "c1cd60fe",
   "metadata": {},
   "source": [
    "Answer:\n",
    "The three blocks are inside the if statement are \n",
    "1. print('eggs')\n",
    "2. print('bacon')\n",
    "3. print('ham')"
   ]
  },
  {
   "cell_type": "markdown",
   "id": "131a18b9",
   "metadata": {},
   "source": [
    "## 8. Write code that prints Hello if 1 is stored in spam, prints Howdy if 2 is stored in spam, and prints Greetings! if anything else is stored in spam."
   ]
  },
  {
   "cell_type": "markdown",
   "id": "f16c0f75",
   "metadata": {},
   "source": [
    "Answer:\n",
    "if spam == 1:\n",
    "print('Hello')\n",
    "elif spam == 2:\n",
    "print('Howdy')\n",
    "else:\n",
    "print('Greetings!')"
   ]
  },
  {
   "cell_type": "markdown",
   "id": "486f7ce3",
   "metadata": {},
   "source": [
    "## 9.If your programme is stuck in an endless loop, what keys you’ll press?"
   ]
  },
  {
   "cell_type": "markdown",
   "id": "78b32cb4",
   "metadata": {},
   "source": [
    "Answer:\n",
    "Press CTRL-C to stop a program stuck in an infinite loop."
   ]
  },
  {
   "cell_type": "markdown",
   "id": "a1f93a37",
   "metadata": {},
   "source": [
    "## 10. How can you tell the difference between break and continue?"
   ]
  },
  {
   "cell_type": "markdown",
   "id": "021f6103",
   "metadata": {},
   "source": [
    "Answer:\n",
    "The break statement will move the execution outside and just after a loop. The continue statement will move the execution to the start of the loop."
   ]
  },
  {
   "cell_type": "markdown",
   "id": "82e9bbe8",
   "metadata": {},
   "source": [
    "## 11. In a for loop, what is the difference between range(10), range(0, 10), and range(0, 10, 1)?"
   ]
  },
  {
   "cell_type": "markdown",
   "id": "a6d3ba0d",
   "metadata": {},
   "source": [
    "#### Answer:\n",
    "#### They all do the same number of looping. \n",
    "- The range(10) call ranges from 0 up to (but not including) 10\n",
    "- range(0, 10) explicitly tells the loop to start at 0 \n",
    "- range(0, 10, 1) explicitly tells the loop to increase the variable by 1 on each iteration."
   ]
  },
  {
   "cell_type": "markdown",
   "id": "46af2166",
   "metadata": {},
   "source": [
    "## 12. Write a short program that prints the numbers 1 to 10 using a for loop. Then write an equivalent program that prints the numbers 1 to 10 using a while loop."
   ]
  },
  {
   "cell_type": "markdown",
   "id": "8324ec05",
   "metadata": {},
   "source": [
    "Answer:\n",
    "for i in range(1, 11):\n",
    "print(i)\n",
    "i = 1\n",
    "while i <= 10:\n",
    "print(i)\n",
    "i = i + 1"
   ]
  },
  {
   "cell_type": "markdown",
   "id": "774f5f88",
   "metadata": {},
   "source": [
    "## 13. If you had a function named bacon() inside a module named spam, how would you call it after importing spam?"
   ]
  },
  {
   "cell_type": "markdown",
   "id": "d8b76c4d",
   "metadata": {},
   "source": [
    "Answer:\n",
    "This function can be called as\n",
    " spam.bacon()"
   ]
  }
 ],
 "metadata": {
  "kernelspec": {
   "display_name": "Python 3 (ipykernel)",
   "language": "python",
   "name": "python3"
  },
  "language_info": {
   "codemirror_mode": {
    "name": "ipython",
    "version": 3
   },
   "file_extension": ".py",
   "mimetype": "text/x-python",
   "name": "python",
   "nbconvert_exporter": "python",
   "pygments_lexer": "ipython3",
   "version": "3.10.9"
  }
 },
 "nbformat": 4,
 "nbformat_minor": 5
}
