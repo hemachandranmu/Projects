{
 "cells": [
  {
   "cell_type": "raw",
   "id": "50f8bce9",
   "metadata": {},
   "source": [
    "1.In the below elements which of them are values or an expression? eg:- values can be integer or string and expressions will be mathematical operators.\n",
    "Answer:\n",
    "* - expression\n",
    " 'hello'\tvalues\n",
    " -87.8\tvalues\n",
    " - \texpression\n",
    " / \texpression\n",
    " +\texpression\n",
    " 6\tvalues\n",
    "\n",
    "2. What is the difference between string and variable?\n",
    "Answer:\n",
    "Variables are symbols that you can use to store data in a program. You can think of them as an empty box that you fill with some data or value. Strings are data, so we can use them to fill up a variable. Declaring strings as variables can make it easier for us to work with strings throughout our Python programs.\n",
    "\n",
    "3. Describe three different data types.\n",
    "Answer:\n",
    "    Data        Types\t            Classes\tDescription\n",
    "    String\t    str\t                holds sequence of characters\n",
    "    Sequence\tlist, tuple, range\tholds collection of items\n",
    "    Mapping\t    dict\t            holds data in key-value pair form\n",
    "    Boolean\t    bool\t            holds either True or False\n",
    "\n",
    "4. What is an expression made up of? What do all expressions do?\n",
    "Answer:\n",
    "A combination of operands and operators is called an expression. The expression in Python produces some value or result after being interpreted by the Python interpreter. An expression in Python is a combination of operators and operands.\n",
    " An example of expression can be :  x=x+10\n",
    "\n",
    "5. This assignment statements, like spam = 10. What is the difference between an expression and a statement?\n",
    "Answer:\n",
    "An Expression can be assigned or used as operands, while statements can only be declared. Statements create side effects to be useful, while expressions are values or execute to values\n",
    "\n",
    "6. After running the following code, what does the variable bacon contain?\n",
    "bacon = 22\n",
    "bacon + 1\n",
    "Answer:\n",
    "The bacon variable is set to 22. The bacon + 1 expression does not reassign the value in bacon (that would need an assignment statement: bacon = bacon + 1)\n",
    "\n",
    "7. What should the values of the following two terms be?\n",
    "'spam' + 'spamspam'\n",
    "'spam' * 3\n",
    "Answer:\n",
    "Both expressions evaluate to the string 'spamspamspam'\n",
    "\n",
    "8. Why is eggs a valid variable name while 100 is invalid?\n",
    "Answer:\n",
    "Variable names cannot begin with a number.\n",
    "\n",
    "9. What three functions can be used to get the integer, floating-point number, or string version of a value?\n",
    "Answer:\n",
    "The int(), float(), and str() functions will evaluate to the integer, floating-point number, and string versions of the value passed to them.\n",
    "\n",
    "10. Why does this expression cause an error? How can you fix it?\n",
    "'I have eaten ' + 99 + ' burritos.'\n",
    "Answer:\n",
    "The expression causes an error because 99 is an integer, and only strings can be concatenated to other strings with the + operator. The correct way is I have eaten ' + str(99) + ' burritos.'.\n",
    "\n",
    "\n"
   ]
  },
  {
   "cell_type": "code",
   "execution_count": null,
   "id": "97d0fa13",
   "metadata": {},
   "outputs": [],
   "source": []
  }
 ],
 "metadata": {
  "kernelspec": {
   "display_name": "Python 3 (ipykernel)",
   "language": "python",
   "name": "python3"
  },
  "language_info": {
   "codemirror_mode": {
    "name": "ipython",
    "version": 3
   },
   "file_extension": ".py",
   "mimetype": "text/x-python",
   "name": "python",
   "nbconvert_exporter": "python",
   "pygments_lexer": "ipython3",
   "version": "3.10.9"
  }
 },
 "nbformat": 4,
 "nbformat_minor": 5
}
