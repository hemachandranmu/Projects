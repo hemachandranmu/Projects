{
 "cells": [
  {
   "cell_type": "markdown",
   "id": "e86a5d55",
   "metadata": {},
   "source": [
    "## Python Basic - 1"
   ]
  },
  {
   "cell_type": "markdown",
   "id": "5afa9c83",
   "metadata": {},
   "source": [
    "## Q.1. What are keywords in python? Using the keyword library, print all the python keywords."
   ]
  },
  {
   "cell_type": "code",
   "execution_count": 1,
   "id": "f8dcb57d",
   "metadata": {},
   "outputs": [
    {
     "name": "stdout",
     "output_type": "stream",
     "text": [
      "Python keywords are...\n",
      "['False', 'None', 'True', 'and', 'as', 'assert', 'async', 'await', 'break', 'class', 'continue', 'def', 'del', 'elif', 'else', 'except', 'finally', 'for', 'from', 'global', 'if', 'import', 'in', 'is', 'lambda', 'nonlocal', 'not', 'or', 'pass', 'raise', 'return', 'try', 'while', 'with', 'yield']\n"
     ]
    }
   ],
   "source": [
    "# importing the module\n",
    "import keyword\n",
    "\n",
    "# printing the keywords\n",
    "print(\"Python keywords are...\")\n",
    "print(keyword.kwlist)"
   ]
  },
  {
   "cell_type": "markdown",
   "id": "661c8bfb",
   "metadata": {},
   "source": [
    "## Q.2. What are the rules to create variables in python?"
   ]
  },
  {
   "cell_type": "markdown",
   "id": "5b7c3980",
   "metadata": {},
   "source": [
    "- A variable can have a short name (like x and y) or a more descriptive name (age, carname, total_volume).\n",
    "\n",
    "Rules for Python variables:\n",
    "\n",
    "- A variable name must start with a letter or the underscore character\n",
    "- A variable name cannot start with a number\n",
    "- A variable name can only contain alpha-numeric characters and underscores (A-z, 0-9, and _ )\n",
    "- Variable names are case-sensitive (age, Age and AGE are three different variables)"
   ]
  },
  {
   "cell_type": "markdown",
   "id": "705826d0",
   "metadata": {},
   "source": [
    "## Q.3. What are the standards and conventions followed for the nomenclature of variables in python to improve code readability and maintainability?"
   ]
  },
  {
   "cell_type": "markdown",
   "id": "5ee62bd4",
   "metadata": {},
   "source": [
    "Programmers employ numerous tactics to ensure readable and organized code. \n",
    "- These include:\n",
    "using naming conventions for variables;\n",
    "placing whitespaces, indentations and tabs within code;\n",
    "adding comments throughout to aid in interpretation.\n",
    "In this tutorial we will examine these concepts.\n",
    "\n",
    "- Variable Naming Conventions\n",
    "Variable naming is an important aspect in making your code readable. Naming variables follow a simple idea: Create variables that describe their function and which follow a consistent theme throughout your code. Let’s take a look at some naming conventions.\n",
    "\n",
    "- Multiword Delimited\n",
    "This convention is to separate words in a variable name without the use of whitespace. Whitespace within variables is usually difficult for programming languages to interpret. Because of this variables must be delimited in some way. Here are several delimiting conventions commonly used in code:\n",
    "\n",
    "- Snakecase: Words are delimited by an underscore.\n",
    "variable_one\n",
    "variable_two\n",
    "\n",
    "- Pascalcase: Words are delimited by capital letters.\n",
    "VariableOne\n",
    "VariableTwo\n",
    "\n",
    "- Camelcase: Words are delimited by capital letters, except the initial word.\n",
    "variableOne\n",
    "variableTwo\n",
    "\n",
    "- Hungarian Notation: \n",
    "This notation describes the variable type or purpose at the start of the variable name, followed by a descriptor that indicates the variable’s function. The Camelcase notation is used to delimit words.\n",
    "\n",
    "arrDistrubuteGroup  //Array called “Distribute Group”\n",
    "sUserName           //String called “User Name”\n",
    "iRandomSeed         //Integer called “Random Seed”\n",
    "\n",
    "- These conventions are by no means binding, but instead examples of how many programmers format their code. Consistency and readability are key ideas that should be utilized in the naming of variables. Regardless of how you choose to name your variables, always ensure that your naming conventions are consistent throughout the code. Consistency allows others to more easily understand your code."
   ]
  },
  {
   "cell_type": "markdown",
   "id": "15102085",
   "metadata": {},
   "source": [
    "## Q.4. What will happen if a keyword is used as a variable name?"
   ]
  },
  {
   "cell_type": "markdown",
   "id": "c0b1aa69",
   "metadata": {},
   "source": [
    "Reserved Keywords are special words that have a meaning in Python, so we cannot use them as variable names.get a SyntaxError if try to do that."
   ]
  },
  {
   "cell_type": "markdown",
   "id": "cd562c11",
   "metadata": {},
   "source": [
    "## Q.5. For what purpose def keyword is used?"
   ]
  },
  {
   "cell_type": "markdown",
   "id": "2fc13775",
   "metadata": {},
   "source": [
    "The def keyword is used to create, (or define) a function."
   ]
  },
  {
   "cell_type": "markdown",
   "id": "577ddd5b",
   "metadata": {},
   "source": [
    "## Q.6. What is the operation of this special character ‘\\’?"
   ]
  },
  {
   "cell_type": "markdown",
   "id": "92b8d1e9",
   "metadata": {},
   "source": [
    "the backslash \"\\\" is a special character, also called the \"escape\" character. It is used in representing certain whitespace characters: \"\\t\" is a tab, \"\\n\" is a newline, and \"\\r\" is a carriage return."
   ]
  },
  {
   "cell_type": "markdown",
   "id": "2b9fb572",
   "metadata": {},
   "source": [
    "## Q.7. Give an example of the following conditions:\n",
    "(i) Homogeneous list\n",
    "(ii) Heterogeneous set\n",
    "(iii) Homogeneous tuple"
   ]
  },
  {
   "cell_type": "code",
   "execution_count": 4,
   "id": "e0a30765",
   "metadata": {},
   "outputs": [],
   "source": [
    "#Homogeneous list\n",
    "spam=[1,2,3,4,5]\n",
    "#Heterogeneous set can hold elements of different data types \n",
    "spam={'a', 1, 2, 'dat', 'u'}\n",
    "#Homogeneous tuple\n",
    "spam = (\"John\", \"Dark\")"
   ]
  },
  {
   "cell_type": "markdown",
   "id": "7750cb54",
   "metadata": {},
   "source": [
    "## Q.8. Explain the mutable and immutable data types with proper explanation & examples."
   ]
  },
  {
   "cell_type": "raw",
   "id": "f4fe35dc",
   "metadata": {},
   "source": [
    "Mutable Objects vs\tImmutable Objects\n",
    "\n",
    "A mutable object can be changed after it is created. eg : List, Set, Dictionary\t\n",
    "An immutable object cannot be changed after it is created. eg: tuples,frozenset.\n",
    "\t\n",
    "Mutable objects are not considered as thread-safe in nature.\t\n",
    "Immutable objects are regarded as thread-safe in nature.\n",
    "\n",
    "Mutable Objects are slower to access, as compared to immutable objects.\n",
    "Immutable objects are faster to access when compared to mutable objects.\n",
    "\n",
    "Mutable objects are useful when we need to change the size or contents of our object.\n",
    "Immutable objects are best suitable when we are sure that we don't need to change them at any point in time.\n",
    "\n",
    "Changing mutable objects is a cheaper operation in terms of space and time\tChanging immutable objects is an expensive operation since it involves creating a new copy for any changes made."
   ]
  },
  {
   "cell_type": "code",
   "execution_count": 5,
   "id": "a5129c8b",
   "metadata": {},
   "outputs": [
    {
     "name": "stdout",
     "output_type": "stream",
     "text": [
      "The frozen set is: frozenset({'e', 'o', 'u', 'i', 'a'})\n",
      "The empty frozen set is: frozenset()\n"
     ]
    },
    {
     "ename": "AttributeError",
     "evalue": "'frozenset' object has no attribute 'add'",
     "output_type": "error",
     "traceback": [
      "\u001b[1;31m---------------------------------------------------------------------------\u001b[0m",
      "\u001b[1;31mAttributeError\u001b[0m                            Traceback (most recent call last)",
      "Cell \u001b[1;32mIn[5], line 9\u001b[0m\n\u001b[0;32m      6\u001b[0m \u001b[38;5;28mprint\u001b[39m(\u001b[38;5;124m'\u001b[39m\u001b[38;5;124mThe empty frozen set is:\u001b[39m\u001b[38;5;124m'\u001b[39m, \u001b[38;5;28mfrozenset\u001b[39m())\n\u001b[0;32m      8\u001b[0m \u001b[38;5;66;03m# frozensets are immutable\u001b[39;00m\n\u001b[1;32m----> 9\u001b[0m \u001b[43mfSet\u001b[49m\u001b[38;5;241;43m.\u001b[39;49m\u001b[43madd\u001b[49m(\u001b[38;5;124m'\u001b[39m\u001b[38;5;124mv\u001b[39m\u001b[38;5;124m'\u001b[39m)\n",
      "\u001b[1;31mAttributeError\u001b[0m: 'frozenset' object has no attribute 'add'"
     ]
    }
   ],
   "source": [
    "# tuple of vowels\n",
    "vowels = ('a', 'e', 'i', 'o', 'u')\n",
    "\n",
    "fSet = frozenset(vowels)\n",
    "print('The frozen set is:', fSet)\n",
    "print('The empty frozen set is:', frozenset())\n",
    "\n",
    "# frozensets are immutable\n",
    "fSet.add('v')"
   ]
  },
  {
   "cell_type": "markdown",
   "id": "e075679c",
   "metadata": {},
   "source": [
    "## Q.9. Write a code to create the given structure using only for loop."
   ]
  },
  {
   "cell_type": "code",
   "execution_count": null,
   "id": "39d4fdf8",
   "metadata": {},
   "outputs": [],
   "source": [
    "    *\n",
    "   ***\n",
    "  *****\n",
    " *******\n",
    "*********"
   ]
  },
  {
   "cell_type": "code",
   "execution_count": 6,
   "id": "5b3188b6",
   "metadata": {},
   "outputs": [
    {
     "name": "stdout",
     "output_type": "stream",
     "text": [
      "      *\n",
      "     ***\n",
      "    *****\n",
      "   *******\n",
      "  *********\n"
     ]
    }
   ],
   "source": [
    "h = 5\n",
    "for x in range(h):\n",
    "    print(\" \" * (h - x), \"*\" * (2*x + 1))"
   ]
  },
  {
   "cell_type": "markdown",
   "id": "ddcd4ebb",
   "metadata": {},
   "source": [
    "## Q.10. Write a code to create the given structure using while loop."
   ]
  },
  {
   "cell_type": "code",
   "execution_count": null,
   "id": "74e0e953",
   "metadata": {},
   "outputs": [],
   "source": [
    "|||||||||\n",
    " |||||||\n",
    "  |||||\n",
    "   |||\n",
    "    |"
   ]
  },
  {
   "cell_type": "code",
   "execution_count": 11,
   "id": "9b6431c3",
   "metadata": {},
   "outputs": [
    {
     "name": "stdout",
     "output_type": "stream",
     "text": [
      "  |||||||||\n",
      "   |||||||\n",
      "    |||||\n",
      "     |||\n",
      "      |\n"
     ]
    }
   ],
   "source": [
    "h = 5\n",
    "for x in range(h - 1, -1, -1):\n",
    "    print(\" \" * (h - x), \"|\" * (2*x + 1))"
   ]
  }
 ],
 "metadata": {
  "kernelspec": {
   "display_name": "Python 3 (ipykernel)",
   "language": "python",
   "name": "python3"
  },
  "language_info": {
   "codemirror_mode": {
    "name": "ipython",
    "version": 3
   },
   "file_extension": ".py",
   "mimetype": "text/x-python",
   "name": "python",
   "nbconvert_exporter": "python",
   "pygments_lexer": "ipython3",
   "version": "3.10.9"
  }
 },
 "nbformat": 4,
 "nbformat_minor": 5
}
