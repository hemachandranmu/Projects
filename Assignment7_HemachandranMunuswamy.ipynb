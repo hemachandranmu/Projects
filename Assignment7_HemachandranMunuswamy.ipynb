{
 "cells": [
  {
   "cell_type": "markdown",
   "id": "9fc3fbfb",
   "metadata": {},
   "source": [
    "## Python Basic - 2"
   ]
  },
  {
   "cell_type": "markdown",
   "id": "89d1fd0b",
   "metadata": {},
   "source": [
    "## Q.1. Create two int type variables, apply addition, subtraction, division and multiplications and store the results in variables. Then print the data in the following format by calling the variables:\n",
    " - First variable is __ & second variable is __.\n",
    " - Addition: __ + __ = __\n",
    " - Subtraction: __ - __ = __\n",
    " - Multiplication: __ * __ = __\n",
    " - Division: __ / __ = __"
   ]
  },
  {
   "cell_type": "code",
   "execution_count": 8,
   "id": "55923ae6",
   "metadata": {},
   "outputs": [
    {
     "name": "stdout",
     "output_type": "stream",
     "text": [
      "Enter first variable: 10\n",
      "Enter second variable: 20\n",
      "First variable is 10 & second variable is 20.\n",
      "Addition: 10 + 20 = 30\n",
      "Subtraction: 10 - 20 = -10\n",
      "Multiplication: 10 * 20 = 200\n",
      "Division: 10 / 20 = 0.5\n"
     ]
    }
   ],
   "source": [
    "num1 = int(input(\"Enter first variable: \")) # user input \n",
    "num2 = int(input(\"Enter second variable: \")) # user input\n",
    "print(f\"First variable is {num1} & second variable is {num2}.\")\n",
    "print(f\"Addition: {num1} + {num2} = {num1 + num2}\")\n",
    "print(f\"Subtraction: {num1} - {num2} = {num1 - num2}\")\n",
    "print(f\"Multiplication: {num1} * {num2} = {num1 * num2}\")\n",
    "print(f\"Division: {num1} / {num2} = {num1 / num2}\")"
   ]
  },
  {
   "cell_type": "markdown",
   "id": "f3dfff57",
   "metadata": {},
   "source": [
    "## Q.2. What is the difference between the following operators:\n",
    "- (i) ‘/’ & ‘//’\n",
    "- (ii) ‘**’ & ‘^’"
   ]
  },
  {
   "cell_type": "code",
   "execution_count": 17,
   "id": "c2e1406d",
   "metadata": {},
   "outputs": [
    {
     "name": "stdout",
     "output_type": "stream",
     "text": [
      "return with both quotient and remainder 2.5\n",
      "return only quotient not remainder 2\n",
      "Use ** instead of pow   - 2 of 3 is  8\n",
      "^ bitwise(XOR) operator.2^3 2\n"
     ]
    }
   ],
   "source": [
    "print(\"return with both quotient and remainder\",5/2)\n",
    "print(\"return only quotient not remainder\",5//2)\n",
    "print(\"Use ** instead of pow   - 2 of 3 is \",2**3)\n",
    "print(\"^ bitwise(XOR) operator.2^3\",2^0)"
   ]
  },
  {
   "cell_type": "markdown",
   "id": "733ee74f",
   "metadata": {},
   "source": [
    "## Q.3. List the logical operators.\n"
   ]
  },
  {
   "cell_type": "markdown",
   "id": "501bbce8",
   "metadata": {},
   "source": [
    "-- Operator Name , Example result\n",
    "-- && AND. [True only if both operands are true.] 0 (only one is true)\n",
    "-- || OR. [True if either operand is true.] 1 (the first test is true)\n",
    "-- ∼ NOT. [Changes true to false and false to true.]"
   ]
  },
  {
   "cell_type": "markdown",
   "id": "f5438986",
   "metadata": {},
   "source": [
    "## Q.4. Explain right shift operator and left shift operator with examples."
   ]
  },
  {
   "cell_type": "code",
   "execution_count": 26,
   "id": "e05d5084",
   "metadata": {},
   "outputs": [
    {
     "name": "stdout",
     "output_type": "stream",
     "text": [
      "shift right side falldown by 1.then gets 7(0000111) binary form from 14 (00001110). 7\n",
      "shift left side falldown by 1.then gets 28(00011100) binary form from 14 (00001110). 28\n"
     ]
    }
   ],
   "source": [
    "##Let’s take a number 14.\n",
    "##Binary representation of 14 is 00001110 (for the sake of clarity let’s write it using 8 bit)\n",
    "##14 = (00001110) in binary form\n",
    "##Then 14 >> 1 will shift the binary sequence by 1 position to the right side.\n",
    "print(\"shift right side falldown by 1.then gets 7(0000111) binary form from 14 (00001110).\",14>>1)\n",
    "##7 = (0000111) in binary form\n",
    "\n",
    "print(\"shift left side falldown by 1.then gets 28(00011100) binary form from 14 (00001110).\",14<<1)"
   ]
  },
  {
   "cell_type": "markdown",
   "id": "fa818285",
   "metadata": {},
   "source": [
    "## Q.5. Create a list containing int type data of length 15. Then write a code to check if 10 is present in the list or not."
   ]
  },
  {
   "cell_type": "code",
   "execution_count": 29,
   "id": "4f2f304a",
   "metadata": {},
   "outputs": [
    {
     "name": "stdout",
     "output_type": "stream",
     "text": [
      "if 10 is present: True\n"
     ]
    }
   ],
   "source": [
    "spam=[1,3,2,4,5,10,32,42,64,22]\n",
    "print(\"if 10 is present:\",10 in spam)"
   ]
  }
 ],
 "metadata": {
  "kernelspec": {
   "display_name": "Python 3 (ipykernel)",
   "language": "python",
   "name": "python3"
  },
  "language_info": {
   "codemirror_mode": {
    "name": "ipython",
    "version": 3
   },
   "file_extension": ".py",
   "mimetype": "text/x-python",
   "name": "python",
   "nbconvert_exporter": "python",
   "pygments_lexer": "ipython3",
   "version": "3.10.9"
  }
 },
 "nbformat": 4,
 "nbformat_minor": 5
}
